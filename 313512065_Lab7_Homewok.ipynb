{
  "nbformat": 4,
  "nbformat_minor": 0,
  "metadata": {
    "colab": {
      "provenance": []
    },
    "kernelspec": {
      "name": "python3",
      "display_name": "Python 3"
    },
    "language_info": {
      "name": "python"
    }
  },
  "cells": [
    {
      "cell_type": "code",
      "source": [
        "import torch\n",
        "import torch.nn as nn\n",
        "import torch.optim as optim\n",
        "import torchvision\n",
        "import torchvision.transforms as transforms\n",
        "import matplotlib.pyplot as plt\n",
        "import numpy as np\n",
        "import os\n",
        "input_size = 28\n",
        "hidden_size = 128\n",
        "num_layers = 1\n",
        "num_classes = 10\n",
        "batch_size = 128\n",
        "learning_rate = 0.0005\n",
        "num_epochs = 10"
      ],
      "metadata": {
        "id": "Zj1G4DeojmpY"
      },
      "execution_count": 22,
      "outputs": []
    },
    {
      "cell_type": "code",
      "source": [
        "train_dataset = torchvision.datasets.MNIST(\n",
        "root='./data',\n",
        "train=True,\n",
        "transform=transforms.ToTensor(),\n",
        "download=True\n",
        ")\n",
        "test_dataset = torchvision.datasets.MNIST(\n",
        "root='./data',\n",
        "train=False,\n",
        "transform=transforms.ToTensor(),\n",
        "download=True\n",
        ")\n",
        "train_loader = torch.utils.data.DataLoader(\n",
        "dataset=train_dataset,\n",
        "batch_size=batch_size,\n",
        "shuffle=True\n",
        ")\n",
        "test_loader = torch.utils.data.DataLoader(\n",
        "dataset=test_dataset,\n",
        "batch_size=batch_size,\n",
        "shuffle=False\n",
        ")"
      ],
      "metadata": {
        "id": "jUICAmX1knT2"
      },
      "execution_count": 16,
      "outputs": []
    },
    {
      "cell_type": "code",
      "execution_count": 17,
      "metadata": {
        "id": "rph52tcki7ZT"
      },
      "outputs": [],
      "source": [
        "class ManualLSTMCell(nn.Module):\n",
        "    def __init__(self, input_size, hidden_size):\n",
        "        super(ManualLSTMCell, self).__init__()\n",
        "        self.input_size = input_size\n",
        "        self.hidden_size = hidden_size\n",
        "\n",
        "        # Weight matrices for concatenated input (x + h)\n",
        "        concat_size = input_size + hidden_size\n",
        "\n",
        "        self.W_f = nn.Linear(concat_size, hidden_size)\n",
        "        self.W_i = nn.Linear(concat_size, hidden_size)\n",
        "        self.W_c = nn.Linear(concat_size, hidden_size)\n",
        "        self.W_o = nn.Linear(concat_size, hidden_size)\n",
        "\n",
        "    def forward(self, x, h_prev, c_prev):\n",
        "        combined = torch.cat((x, h_prev), dim=1)\n",
        "\n",
        "        f_t = torch.sigmoid(self.W_f(combined))\n",
        "        i_t = torch.sigmoid(self.W_i(combined))\n",
        "        c_tilde = torch.tanh(self.W_c(combined))\n",
        "        c_t = f_t * c_prev + i_t * c_tilde\n",
        "        o_t = torch.sigmoid(self.W_o(combined))\n",
        "        h_t = o_t * torch.tanh(c_t)\n",
        "\n",
        "        return h_t, c_t\n"
      ]
    },
    {
      "cell_type": "code",
      "source": [
        "class ManualLSTMClassifier(nn.Module):\n",
        "    def __init__(self, input_size, hidden_size, num_classes):\n",
        "        super(ManualLSTMClassifier, self).__init__()\n",
        "        self.hidden_size = hidden_size\n",
        "        self.lstm_cell = ManualLSTMCell(input_size, hidden_size)\n",
        "        self.fc = nn.Linear(hidden_size, num_classes)\n",
        "\n",
        "    def forward(self, x):\n",
        "        batch_size, seq_len, _ = x.size()\n",
        "        h_t = torch.zeros(batch_size, self.hidden_size).to(x.device)\n",
        "        c_t = torch.zeros(batch_size, self.hidden_size).to(x.device)\n",
        "\n",
        "        for t in range(seq_len):\n",
        "            x_t = x[:, t, :]\n",
        "            h_t, c_t = self.lstm_cell(x_t, h_t, c_t)\n",
        "\n",
        "        out = self.fc(h_t)\n",
        "        return out\n"
      ],
      "metadata": {
        "id": "CT2WuPOki9nC"
      },
      "execution_count": 18,
      "outputs": []
    },
    {
      "cell_type": "code",
      "source": [
        "device = torch.device('cuda' if torch.cuda.is_available() else 'cpu')\n",
        "model = ManualLSTMClassifier(input_size, hidden_size, num_classes).to(device)\n",
        "criterion = nn.CrossEntropyLoss()\n",
        "optimizer = optim.Adam(model.parameters(), lr=learning_rate)\n",
        "# Training loop\n",
        "for epoch in range(num_epochs):\n",
        "  for i, (images, labels) in enumerate(train_loader):\n",
        "    images = images.reshape(-1, 28, 28).to(device)\n",
        "    labels = labels.to(device)\n",
        "    outputs = model(images)\n",
        "    loss = criterion(outputs, labels)\n",
        "    optimizer.zero_grad()\n",
        "    loss.backward()\n",
        "    optimizer.step()\n",
        "    if (i+1) % 100 == 0:\n",
        "      print(f'Epoch [{epoch+1}/{num_epochs}], Step [{i+1}/{len(train_loader)}], Loss: {loss.item():.4f}')"
      ],
      "metadata": {
        "colab": {
          "base_uri": "https://localhost:8080/"
        },
        "id": "1ljIyCcTkIoy",
        "outputId": "876cf0a9-5168-41e4-cfae-347ba68c53f8"
      },
      "execution_count": 23,
      "outputs": [
        {
          "output_type": "stream",
          "name": "stdout",
          "text": [
            "Epoch [1/10], Step [100/469], Loss: 0.9670\n",
            "Epoch [1/10], Step [200/469], Loss: 0.5535\n",
            "Epoch [1/10], Step [300/469], Loss: 0.5297\n",
            "Epoch [1/10], Step [400/469], Loss: 0.3474\n",
            "Epoch [2/10], Step [100/469], Loss: 0.2392\n",
            "Epoch [2/10], Step [200/469], Loss: 0.3261\n",
            "Epoch [2/10], Step [300/469], Loss: 0.3555\n",
            "Epoch [2/10], Step [400/469], Loss: 0.2009\n",
            "Epoch [3/10], Step [100/469], Loss: 0.1201\n",
            "Epoch [3/10], Step [200/469], Loss: 0.1110\n",
            "Epoch [3/10], Step [300/469], Loss: 0.1457\n",
            "Epoch [3/10], Step [400/469], Loss: 0.0897\n",
            "Epoch [4/10], Step [100/469], Loss: 0.1467\n",
            "Epoch [4/10], Step [200/469], Loss: 0.1345\n",
            "Epoch [4/10], Step [300/469], Loss: 0.1937\n",
            "Epoch [4/10], Step [400/469], Loss: 0.1514\n",
            "Epoch [5/10], Step [100/469], Loss: 0.1104\n",
            "Epoch [5/10], Step [200/469], Loss: 0.1331\n",
            "Epoch [5/10], Step [300/469], Loss: 0.1410\n",
            "Epoch [5/10], Step [400/469], Loss: 0.1016\n",
            "Epoch [6/10], Step [100/469], Loss: 0.1571\n",
            "Epoch [6/10], Step [200/469], Loss: 0.1476\n",
            "Epoch [6/10], Step [300/469], Loss: 0.1421\n",
            "Epoch [6/10], Step [400/469], Loss: 0.0743\n",
            "Epoch [7/10], Step [100/469], Loss: 0.1170\n",
            "Epoch [7/10], Step [200/469], Loss: 0.1324\n",
            "Epoch [7/10], Step [300/469], Loss: 0.0682\n",
            "Epoch [7/10], Step [400/469], Loss: 0.0713\n",
            "Epoch [8/10], Step [100/469], Loss: 0.0741\n",
            "Epoch [8/10], Step [200/469], Loss: 0.1181\n",
            "Epoch [8/10], Step [300/469], Loss: 0.0889\n",
            "Epoch [8/10], Step [400/469], Loss: 0.0807\n",
            "Epoch [9/10], Step [100/469], Loss: 0.0307\n",
            "Epoch [9/10], Step [200/469], Loss: 0.0447\n",
            "Epoch [9/10], Step [300/469], Loss: 0.0130\n",
            "Epoch [9/10], Step [400/469], Loss: 0.0410\n",
            "Epoch [10/10], Step [100/469], Loss: 0.1088\n",
            "Epoch [10/10], Step [200/469], Loss: 0.0474\n",
            "Epoch [10/10], Step [300/469], Loss: 0.0710\n",
            "Epoch [10/10], Step [400/469], Loss: 0.0749\n"
          ]
        }
      ]
    },
    {
      "cell_type": "code",
      "source": [
        "# Testing loop\n",
        "model.eval()\n",
        "correct = 0\n",
        "total = 0\n",
        "\n",
        "with torch.no_grad():\n",
        "    for images, labels in test_loader:\n",
        "        images = images.reshape(-1, 28, 28).to(device)\n",
        "        labels = labels.to(device)\n",
        "        outputs = model(images)\n",
        "        _, predicted = torch.max(outputs.data, 1)\n",
        "        total += labels.size(0)\n",
        "        correct += (predicted == labels).sum().item()\n",
        "\n",
        "print(f'Test Accuracy: {100 * correct / total:.2f}%')\n"
      ],
      "metadata": {
        "colab": {
          "base_uri": "https://localhost:8080/"
        },
        "id": "1fQ_Ht6cjHUO",
        "outputId": "46a31a20-1bb6-4fd9-a7dc-f0704ab30b79"
      },
      "execution_count": 24,
      "outputs": [
        {
          "output_type": "stream",
          "name": "stdout",
          "text": [
            "Test Accuracy: 97.70%\n"
          ]
        }
      ]
    },
    {
      "cell_type": "code",
      "source": [
        "# Visualization\n",
        "import matplotlib.pyplot as plt\n",
        "\n",
        "model.eval()\n",
        "examples = enumerate(test_loader)\n",
        "batch_idx, (example_data, example_targets) = next(examples)\n",
        "example_data = example_data.to(device)\n",
        "example_targets = example_targets.to(device)\n",
        "example_outputs = model(example_data.reshape(-1, 28, 28))\n",
        "_, preds = torch.max(example_outputs.data, 1)\n",
        "\n",
        "plt.figure(figsize=(12, 5))\n",
        "for i in range(10):\n",
        "    plt.subplot(2, 5, i+1)\n",
        "    plt.imshow(example_data[i].cpu().squeeze(), cmap='gray')\n",
        "    plt.title(f'True: {example_targets[i].item()}\\nPred: {preds[i].item()}')\n",
        "    plt.axis('off')\n",
        "plt.tight_layout()\n",
        "plt.show()\n"
      ],
      "metadata": {
        "colab": {
          "base_uri": "https://localhost:8080/",
          "height": 492
        },
        "id": "4OT7FccZjTWb",
        "outputId": "626fbccc-9ac3-4575-d166-57837bc64cb9"
      },
      "execution_count": 21,
      "outputs": [
        {
          "output_type": "display_data",
          "data": {
            "text/plain": [
              "<Figure size 1200x500 with 10 Axes>"
            ],
            "image/png": "[encoded data removed]"
          },
          "metadata": {}
        }
      ]
    }
  ]
}